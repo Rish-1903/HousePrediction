{
 "cells": [
  {
   "cell_type": "code",
   "execution_count": 1,
   "id": "6ef840b5-2d4e-48fe-a5e1-ae6bb6e9e362",
   "metadata": {},
   "outputs": [],
   "source": [
    "import numpy as np\n",
    "import pandas as pd\n",
    "import matplotlib.pyplot as plt\n",
    "%matplotlib inline\n",
    "df=pd.read_csv(\"train.csv\")"
   ]
  },
  {
   "cell_type": "code",
   "execution_count": 2,
   "id": "5ce1a031-527e-4c9d-84e0-30a79204299a",
   "metadata": {},
   "outputs": [
    {
     "data": {
      "text/html": [
       "<div>\n",
       "<style scoped>\n",
       "    .dataframe tbody tr th:only-of-type {\n",
       "        vertical-align: middle;\n",
       "    }\n",
       "\n",
       "    .dataframe tbody tr th {\n",
       "        vertical-align: top;\n",
       "    }\n",
       "\n",
       "    .dataframe thead th {\n",
       "        text-align: right;\n",
       "    }\n",
       "</style>\n",
       "<table border=\"1\" class=\"dataframe\">\n",
       "  <thead>\n",
       "    <tr style=\"text-align: right;\">\n",
       "      <th></th>\n",
       "      <th>seller_type</th>\n",
       "      <th>bedroom</th>\n",
       "      <th>layout_type</th>\n",
       "      <th>property_type</th>\n",
       "      <th>locality</th>\n",
       "      <th>area</th>\n",
       "      <th>furnish_type</th>\n",
       "      <th>bathroom</th>\n",
       "      <th>price</th>\n",
       "    </tr>\n",
       "  </thead>\n",
       "  <tbody>\n",
       "    <tr>\n",
       "      <th>0</th>\n",
       "      <td>AGENT</td>\n",
       "      <td>1.0</td>\n",
       "      <td>BHK</td>\n",
       "      <td>Independent Floor</td>\n",
       "      <td>Chattarpur</td>\n",
       "      <td>500</td>\n",
       "      <td>Unfurnished</td>\n",
       "      <td>1 bathrooms</td>\n",
       "      <td>8500.0</td>\n",
       "    </tr>\n",
       "    <tr>\n",
       "      <th>1</th>\n",
       "      <td>AGENT</td>\n",
       "      <td>1.0</td>\n",
       "      <td>BHK</td>\n",
       "      <td>Apartment</td>\n",
       "      <td>Vasant Kunj</td>\n",
       "      <td>581</td>\n",
       "      <td>Furnished</td>\n",
       "      <td>2 bathrooms</td>\n",
       "      <td>21000.0</td>\n",
       "    </tr>\n",
       "    <tr>\n",
       "      <th>2</th>\n",
       "      <td>AGENT</td>\n",
       "      <td>1.0</td>\n",
       "      <td>BHK</td>\n",
       "      <td>Independent Floor</td>\n",
       "      <td>Malviya Nagar</td>\n",
       "      <td>500</td>\n",
       "      <td>Furnished</td>\n",
       "      <td>1 bathrooms</td>\n",
       "      <td>12000.0</td>\n",
       "    </tr>\n",
       "    <tr>\n",
       "      <th>3</th>\n",
       "      <td>AGENT</td>\n",
       "      <td>1.0</td>\n",
       "      <td>BHK</td>\n",
       "      <td>Apartment</td>\n",
       "      <td>Sector 23 Dwarka</td>\n",
       "      <td>415</td>\n",
       "      <td>Semi-Furnished</td>\n",
       "      <td>1 bathrooms</td>\n",
       "      <td>7200.0</td>\n",
       "    </tr>\n",
       "    <tr>\n",
       "      <th>4</th>\n",
       "      <td>AGENT</td>\n",
       "      <td>3.0</td>\n",
       "      <td>BHK</td>\n",
       "      <td>Apartment</td>\n",
       "      <td>mayur vihar phase 1</td>\n",
       "      <td>1550</td>\n",
       "      <td>Semi-Furnished</td>\n",
       "      <td>3 bathrooms</td>\n",
       "      <td>35000.0</td>\n",
       "    </tr>\n",
       "  </tbody>\n",
       "</table>\n",
       "</div>"
      ],
      "text/plain": [
       "  seller_type  bedroom layout_type      property_type             locality  \\\n",
       "0       AGENT      1.0         BHK  Independent Floor           Chattarpur   \n",
       "1       AGENT      1.0         BHK          Apartment          Vasant Kunj   \n",
       "2       AGENT      1.0         BHK  Independent Floor        Malviya Nagar   \n",
       "3       AGENT      1.0         BHK          Apartment     Sector 23 Dwarka   \n",
       "4       AGENT      3.0         BHK          Apartment  mayur vihar phase 1   \n",
       "\n",
       "   area    furnish_type     bathroom    price  \n",
       "0   500     Unfurnished  1 bathrooms   8500.0  \n",
       "1   581       Furnished  2 bathrooms  21000.0  \n",
       "2   500       Furnished  1 bathrooms  12000.0  \n",
       "3   415  Semi-Furnished  1 bathrooms   7200.0  \n",
       "4  1550  Semi-Furnished  3 bathrooms  35000.0  "
      ]
     },
     "execution_count": 2,
     "metadata": {},
     "output_type": "execute_result"
    }
   ],
   "source": [
    "df.head()"
   ]
  },
  {
   "cell_type": "code",
   "execution_count": 3,
   "id": "4bb8bb03-5d60-4fcf-ba81-2b6f9df94899",
   "metadata": {},
   "outputs": [
    {
     "name": "stdout",
     "output_type": "stream",
     "text": [
      "<class 'pandas.core.frame.DataFrame'>\n",
      "RangeIndex: 29700 entries, 0 to 29699\n",
      "Data columns (total 9 columns):\n",
      " #   Column         Non-Null Count  Dtype  \n",
      "---  ------         --------------  -----  \n",
      " 0   seller_type    29694 non-null  object \n",
      " 1   bedroom        29697 non-null  float64\n",
      " 2   layout_type    29689 non-null  object \n",
      " 3   property_type  29698 non-null  object \n",
      " 4   locality       29694 non-null  object \n",
      " 5   area           29700 non-null  int64  \n",
      " 6   furnish_type   29696 non-null  object \n",
      " 7   bathroom       29404 non-null  object \n",
      " 8   price          29700 non-null  float64\n",
      "dtypes: float64(2), int64(1), object(6)\n",
      "memory usage: 2.0+ MB\n"
     ]
    }
   ],
   "source": [
    "df.info()"
   ]
  },
  {
   "cell_type": "code",
   "execution_count": 4,
   "id": "f33d672f-061c-458f-ad37-75ef77a8a08e",
   "metadata": {},
   "outputs": [
    {
     "data": {
      "text/plain": [
       "seller_type        6\n",
       "bedroom            3\n",
       "layout_type       11\n",
       "property_type      2\n",
       "locality           6\n",
       "area               0\n",
       "furnish_type       4\n",
       "bathroom         296\n",
       "price              0\n",
       "dtype: int64"
      ]
     },
     "execution_count": 4,
     "metadata": {},
     "output_type": "execute_result"
    }
   ],
   "source": [
    "df.isnull().sum()"
   ]
  },
  {
   "cell_type": "code",
   "execution_count": 5,
   "id": "9563fc31-db0d-4ec9-a82d-9416f16a7559",
   "metadata": {},
   "outputs": [],
   "source": [
    "df=df.drop(['bathroom'],axis=1)"
   ]
  },
  {
   "cell_type": "code",
   "execution_count": 6,
   "id": "49f5138c-9284-435c-8627-53a247ece25d",
   "metadata": {},
   "outputs": [],
   "source": [
    "df.layout_type.fillna('BHK',inplace=True)"
   ]
  },
  {
   "cell_type": "code",
   "execution_count": 7,
   "id": "1c494986-14fb-41a2-8435-78d2629969bf",
   "metadata": {},
   "outputs": [],
   "source": [
    "df1=df.copy()"
   ]
  },
  {
   "cell_type": "code",
   "execution_count": 8,
   "id": "893fd31d-978e-407a-9e55-2c9ab63718cc",
   "metadata": {},
   "outputs": [
    {
     "data": {
      "text/plain": [
       "<Axes: xlabel='seller_type'>"
      ]
     },
     "execution_count": 8,
     "metadata": {},
     "output_type": "execute_result"
    },
    {
     "data": {
      "image/png": "[encoded data removed]",
      "text/plain": [
       "<Figure size 640x480 with 1 Axes>"
      ]
     },
     "metadata": {},
     "output_type": "display_data"
    }
   ],
   "source": [
    "df1.seller_type.value_counts().plot.bar()"
   ]
  },
  {
   "cell_type": "code",
   "execution_count": 9,
   "id": "717b2fdb-bc27-4c9d-9edd-a24b4dea72fc",
   "metadata": {},
   "outputs": [],
   "source": [
    "df1.seller_type.fillna('Agent',inplace=True)"
   ]
  },
  {
   "cell_type": "code",
   "execution_count": 10,
   "id": "78e4e360-4449-49cf-be70-3a4cde7369be",
   "metadata": {},
   "outputs": [
    {
     "data": {
      "text/plain": [
       "3.0"
      ]
     },
     "execution_count": 10,
     "metadata": {},
     "output_type": "execute_result"
    }
   ],
   "source": [
    "df1.bedroom.median()"
   ]
  },
  {
   "cell_type": "code",
   "execution_count": 11,
   "id": "43fe70f5-15d2-4340-8257-4cf5eb46dcf2",
   "metadata": {},
   "outputs": [],
   "source": [
    "df1.bedroom.fillna(3,inplace=True)"
   ]
  },
  {
   "cell_type": "code",
   "execution_count": 12,
   "id": "1199b215-346f-49db-8bcb-557448c5be42",
   "metadata": {},
   "outputs": [
    {
     "data": {
      "text/plain": [
       "<Axes: xlabel='furnish_type'>"
      ]
     },
     "execution_count": 12,
     "metadata": {},
     "output_type": "execute_result"
    },
    {
     "data": {
      "image/png": "[encoded data removed]",
      "text/plain": [
       "<Figure size 640x480 with 1 Axes>"
      ]
     },
     "metadata": {},
     "output_type": "display_data"
    }
   ],
   "source": [
    "df1.furnish_type.value_counts().plot.bar()"
   ]
  },
  {
   "cell_type": "code",
   "execution_count": 13,
   "id": "33dcd168-4c7a-4ea4-b8ff-95063a469c07",
   "metadata": {},
   "outputs": [],
   "source": [
    "df1.furnish_type.fillna('Semi-Furnishing',inplace=True)"
   ]
  },
  {
   "cell_type": "code",
   "execution_count": 14,
   "id": "5ae52c8c-4779-4558-90d6-2375b312add7",
   "metadata": {},
   "outputs": [],
   "source": [
    "df1.locality.fillna(\"No Locality\",inplace=True)"
   ]
  },
  {
   "cell_type": "code",
   "execution_count": 15,
   "id": "c9c87b35-c5a7-4621-a268-a8970bd34d85",
   "metadata": {},
   "outputs": [
    {
     "data": {
      "text/plain": [
       "seller_type      0\n",
       "bedroom          0\n",
       "layout_type      0\n",
       "property_type    2\n",
       "locality         0\n",
       "area             0\n",
       "furnish_type     0\n",
       "price            0\n",
       "dtype: int64"
      ]
     },
     "execution_count": 15,
     "metadata": {},
     "output_type": "execute_result"
    }
   ],
   "source": [
    "df1.isnull().sum()"
   ]
  },
  {
   "cell_type": "code",
   "execution_count": 16,
   "id": "e6b388ba-8701-4560-a94d-f6b7f2cbccd6",
   "metadata": {},
   "outputs": [
    {
     "data": {
      "text/plain": [
       "<Axes: xlabel='property_type'>"
      ]
     },
     "execution_count": 16,
     "metadata": {},
     "output_type": "execute_result"
    },
    {
     "data": {
      "image/png": "[encoded data removed]",
      "text/plain": [
       "<Figure size 640x480 with 1 Axes>"
      ]
     },
     "metadata": {},
     "output_type": "display_data"
    }
   ],
   "source": [
    "df1.property_type.value_counts().plot.bar()"
   ]
  },
  {
   "cell_type": "code",
   "execution_count": 17,
   "id": "610f9cbc-a559-4975-a8c5-a1de2e1c1be9",
   "metadata": {},
   "outputs": [],
   "source": [
    "df1.property_type.fillna('Independent Floor',inplace=True)"
   ]
  },
  {
   "cell_type": "code",
   "execution_count": 18,
   "id": "f0758e97-2d83-4054-9feb-4be08e1219df",
   "metadata": {},
   "outputs": [
    {
     "name": "stdout",
     "output_type": "stream",
     "text": [
      "<class 'pandas.core.frame.DataFrame'>\n",
      "RangeIndex: 29700 entries, 0 to 29699\n",
      "Data columns (total 8 columns):\n",
      " #   Column         Non-Null Count  Dtype  \n",
      "---  ------         --------------  -----  \n",
      " 0   seller_type    29700 non-null  object \n",
      " 1   bedroom        29700 non-null  float64\n",
      " 2   layout_type    29700 non-null  object \n",
      " 3   property_type  29700 non-null  object \n",
      " 4   locality       29700 non-null  object \n",
      " 5   area           29700 non-null  int64  \n",
      " 6   furnish_type   29700 non-null  object \n",
      " 7   price          29700 non-null  float64\n",
      "dtypes: float64(2), int64(1), object(5)\n",
      "memory usage: 1.8+ MB\n"
     ]
    }
   ],
   "source": [
    "df1.info()"
   ]
  },
  {
   "cell_type": "code",
   "execution_count": 19,
   "id": "516d4251-1728-4342-a09d-e66da91a48d9",
   "metadata": {},
   "outputs": [
    {
     "data": {
      "text/plain": [
       "seller_type      0\n",
       "bedroom          0\n",
       "layout_type      0\n",
       "property_type    0\n",
       "locality         0\n",
       "area             0\n",
       "furnish_type     0\n",
       "price            0\n",
       "dtype: int64"
      ]
     },
     "execution_count": 19,
     "metadata": {},
     "output_type": "execute_result"
    }
   ],
   "source": [
    "df1.isnull().sum()"
   ]
  },
  {
   "cell_type": "code",
   "execution_count": 20,
   "id": "185f2d1e-b25e-4453-ab85-6d177432cab5",
   "metadata": {},
   "outputs": [
    {
     "data": {
      "text/html": [
       "<div>\n",
       "<style scoped>\n",
       "    .dataframe tbody tr th:only-of-type {\n",
       "        vertical-align: middle;\n",
       "    }\n",
       "\n",
       "    .dataframe tbody tr th {\n",
       "        vertical-align: top;\n",
       "    }\n",
       "\n",
       "    .dataframe thead th {\n",
       "        text-align: right;\n",
       "    }\n",
       "</style>\n",
       "<table border=\"1\" class=\"dataframe\">\n",
       "  <thead>\n",
       "    <tr style=\"text-align: right;\">\n",
       "      <th></th>\n",
       "      <th>seller_type</th>\n",
       "      <th>bedroom</th>\n",
       "      <th>layout_type</th>\n",
       "      <th>property_type</th>\n",
       "      <th>locality</th>\n",
       "      <th>area</th>\n",
       "      <th>furnish_type</th>\n",
       "      <th>price</th>\n",
       "    </tr>\n",
       "  </thead>\n",
       "  <tbody>\n",
       "    <tr>\n",
       "      <th>0</th>\n",
       "      <td>AGENT</td>\n",
       "      <td>1.0</td>\n",
       "      <td>BHK</td>\n",
       "      <td>Independent Floor</td>\n",
       "      <td>Chattarpur</td>\n",
       "      <td>500</td>\n",
       "      <td>Unfurnished</td>\n",
       "      <td>8500.0</td>\n",
       "    </tr>\n",
       "    <tr>\n",
       "      <th>1</th>\n",
       "      <td>AGENT</td>\n",
       "      <td>1.0</td>\n",
       "      <td>BHK</td>\n",
       "      <td>Apartment</td>\n",
       "      <td>Vasant Kunj</td>\n",
       "      <td>581</td>\n",
       "      <td>Furnished</td>\n",
       "      <td>21000.0</td>\n",
       "    </tr>\n",
       "    <tr>\n",
       "      <th>2</th>\n",
       "      <td>AGENT</td>\n",
       "      <td>1.0</td>\n",
       "      <td>BHK</td>\n",
       "      <td>Independent Floor</td>\n",
       "      <td>Malviya Nagar</td>\n",
       "      <td>500</td>\n",
       "      <td>Furnished</td>\n",
       "      <td>12000.0</td>\n",
       "    </tr>\n",
       "    <tr>\n",
       "      <th>3</th>\n",
       "      <td>AGENT</td>\n",
       "      <td>1.0</td>\n",
       "      <td>BHK</td>\n",
       "      <td>Apartment</td>\n",
       "      <td>Sector 23 Dwarka</td>\n",
       "      <td>415</td>\n",
       "      <td>Semi-Furnished</td>\n",
       "      <td>7200.0</td>\n",
       "    </tr>\n",
       "    <tr>\n",
       "      <th>4</th>\n",
       "      <td>AGENT</td>\n",
       "      <td>3.0</td>\n",
       "      <td>BHK</td>\n",
       "      <td>Apartment</td>\n",
       "      <td>mayur vihar phase 1</td>\n",
       "      <td>1550</td>\n",
       "      <td>Semi-Furnished</td>\n",
       "      <td>35000.0</td>\n",
       "    </tr>\n",
       "  </tbody>\n",
       "</table>\n",
       "</div>"
      ],
      "text/plain": [
       "  seller_type  bedroom layout_type      property_type             locality  \\\n",
       "0       AGENT      1.0         BHK  Independent Floor           Chattarpur   \n",
       "1       AGENT      1.0         BHK          Apartment          Vasant Kunj   \n",
       "2       AGENT      1.0         BHK  Independent Floor        Malviya Nagar   \n",
       "3       AGENT      1.0         BHK          Apartment     Sector 23 Dwarka   \n",
       "4       AGENT      3.0         BHK          Apartment  mayur vihar phase 1   \n",
       "\n",
       "   area    furnish_type    price  \n",
       "0   500     Unfurnished   8500.0  \n",
       "1   581       Furnished  21000.0  \n",
       "2   500       Furnished  12000.0  \n",
       "3   415  Semi-Furnished   7200.0  \n",
       "4  1550  Semi-Furnished  35000.0  "
      ]
     },
     "execution_count": 20,
     "metadata": {},
     "output_type": "execute_result"
    }
   ],
   "source": [
    "df1.head()"
   ]
  },
  {
   "cell_type": "code",
   "execution_count": 21,
   "id": "fe194f57-3e58-46ab-b8b0-577160ee2431",
   "metadata": {},
   "outputs": [],
   "source": [
    "x_train=df1['area']\n",
    "y_train=df1['price']\n",
    "x_train=(x_train-np.mean(x_train))/(np.std(x_train))\n",
    "y_train=(y_train-np.mean(y_train))/(np.std(y_train))"
   ]
  },
  {
   "cell_type": "code",
   "execution_count": 22,
   "id": "fbc747a7-ad3c-4764-a719-cafe88df1c34",
   "metadata": {},
   "outputs": [
    {
     "name": "stdout",
     "output_type": "stream",
     "text": [
      "(29700,)\n",
      "(29700,)\n"
     ]
    }
   ],
   "source": [
    "print(x_train.shape)\n",
    "print(y_train.shape)"
   ]
  },
  {
   "cell_type": "code",
   "execution_count": 23,
   "id": "e08f2f74-9489-4380-9074-d12bb227fcdc",
   "metadata": {},
   "outputs": [
    {
     "name": "stdout",
     "output_type": "stream",
     "text": [
      "<class 'pandas.core.series.Series'>\n"
     ]
    }
   ],
   "source": [
    "print(type(x_train))"
   ]
  },
  {
   "cell_type": "code",
   "execution_count": 24,
   "id": "d4484072-3cb4-4cf4-ad1b-c621888c8748",
   "metadata": {},
   "outputs": [
    {
     "name": "stdout",
     "output_type": "stream",
     "text": [
      "<class 'pandas.core.series.Series'>\n"
     ]
    }
   ],
   "source": [
    "print(type(y_train))"
   ]
  },
  {
   "cell_type": "code",
   "execution_count": 25,
   "id": "c2599095-2c51-4a16-8ae9-936f0e5c8592",
   "metadata": {},
   "outputs": [
    {
     "data": {
      "image/png": "[encoded data removed]",
      "text/plain": [
       "<Figure size 640x480 with 1 Axes>"
      ]
     },
     "metadata": {},
     "output_type": "display_data"
    }
   ],
   "source": [
    "plt.scatter(x_train,y_train,marker='x',color='r')\n",
    "plt.xlabel('Area')\n",
    "plt.ylabel('Price')\n",
    "plt.show()"
   ]
  },
  {
   "cell_type": "code",
   "execution_count": 26,
   "id": "604f4dde-3618-42f6-94a9-5c034c8f0f66",
   "metadata": {},
   "outputs": [],
   "source": [
    "def compute_cost(x,y,w,b):\n",
    "    m=x.shape[0]\n",
    "    cost=0.0\n",
    "    for i in range(m):\n",
    "        f_wb_i=np.dot(x[i],w)+b\n",
    "        cost+=(f_wb_i-y[i])**2\n",
    "    cost=cost/(2*m)\n",
    "    return cost"
   ]
  },
  {
   "cell_type": "code",
   "execution_count": 27,
   "id": "da1d59b6-99f7-406e-962d-cfd4b8c4ac98",
   "metadata": {},
   "outputs": [],
   "source": [
    "def compute_gradient(x,y,w,b):\n",
    "    m=x.shape[0]\n",
    "    dj_dw=0\n",
    "    dj_db=0\n",
    "    for i in range(m):\n",
    "        f_wb_i=np.dot(x[i],w)+b\n",
    "        dj_dw+=(f_wb_i-y[i])*x[i]\n",
    "        dj_db+=(f_wb_i-y[i])\n",
    "    dj_dw=dj_dw/m\n",
    "    dj_db=dj_db/m\n",
    "    return dj_dw,dj_db"
   ]
  },
  {
   "cell_type": "code",
   "execution_count": 28,
   "id": "e49956f6-f662-436b-a0c7-b15fc00c9cb7",
   "metadata": {},
   "outputs": [],
   "source": [
    "import copy \n",
    "import math\n",
    "def gradient_descent(x,y,w_in, b_in, cost_function, gradient_function, alpha, num_iters):\n",
    "    m=len(x)\n",
    "    J_history=[]\n",
    "    w_history=[]\n",
    "    w=copy.deepcopy(w_in)\n",
    "    b=b_in\n",
    "    for i in range(m):\n",
    "        dj_dw,dj_db=gradient_function(x,y,w,b)\n",
    "        w=w-alpha*dj_dw\n",
    "        b=b-alpha*dj_db\n",
    "        if i<40000:\n",
    "            cost=cost_function(x,y,w,b)\n",
    "            J_history.append(cost)\n",
    "        if i% math.ceil(num_iters/10) == 0:\n",
    "             w_history.append(w)\n",
    "             print(f\"Iteration {i:4}: Cost {float(J_history[-1]):8.2f}   \")\n",
    "        \n",
    "    return w, b, J_history, w_history"
   ]
  },
  {
   "cell_type": "code",
   "execution_count": 33,
   "id": "8c0615fa-2a79-4a82-9a79-258a5389ca3a",
   "metadata": {},
   "outputs": [
    {
     "name": "stdout",
     "output_type": "stream",
     "text": [
      "Iteration    0: Cost     0.49   \n",
      "Iteration  200: Cost     0.16   \n",
      "Iteration  400: Cost     0.16   \n",
      "Iteration  600: Cost     0.16   \n",
      "Iteration  800: Cost     0.16   \n",
      "Iteration 1000: Cost     0.16   \n",
      "Iteration 1200: Cost     0.16   \n",
      "Iteration 1400: Cost     0.16   \n",
      "Iteration 1600: Cost     0.16   \n",
      "Iteration 1800: Cost     0.16   \n",
      "Iteration 2000: Cost     0.16   \n",
      "Iteration 2200: Cost     0.16   \n",
      "Iteration 2400: Cost     0.16   \n",
      "Iteration 2600: Cost     0.16   \n",
      "Iteration 2800: Cost     0.16   \n",
      "Iteration 3000: Cost     0.16   \n",
      "Iteration 3200: Cost     0.16   \n",
      "Iteration 3400: Cost     0.16   \n",
      "Iteration 3600: Cost     0.16   \n",
      "Iteration 3800: Cost     0.16   \n",
      "Iteration 4000: Cost     0.16   \n",
      "Iteration 4200: Cost     0.16   \n",
      "Iteration 4400: Cost     0.16   \n",
      "Iteration 4600: Cost     0.16   \n",
      "Iteration 4800: Cost     0.16   \n",
      "Iteration 5000: Cost     0.16   \n",
      "Iteration 5200: Cost     0.16   \n",
      "Iteration 5400: Cost     0.16   \n",
      "Iteration 5600: Cost     0.16   \n",
      "Iteration 5800: Cost     0.16   \n",
      "Iteration 6000: Cost     0.16   \n",
      "Iteration 6200: Cost     0.16   \n",
      "Iteration 6400: Cost     0.16   \n",
      "Iteration 6600: Cost     0.16   \n",
      "Iteration 6800: Cost     0.16   \n",
      "Iteration 7000: Cost     0.16   \n",
      "Iteration 7200: Cost     0.16   \n",
      "Iteration 7400: Cost     0.16   \n",
      "Iteration 7600: Cost     0.16   \n",
      "Iteration 7800: Cost     0.16   \n",
      "Iteration 8000: Cost     0.16   \n",
      "Iteration 8200: Cost     0.16   \n",
      "Iteration 8400: Cost     0.16   \n",
      "Iteration 8600: Cost     0.16   \n",
      "Iteration 8800: Cost     0.16   \n",
      "Iteration 9000: Cost     0.16   \n",
      "Iteration 9200: Cost     0.16   \n",
      "Iteration 9400: Cost     0.16   \n",
      "Iteration 9600: Cost     0.16   \n",
      "Iteration 9800: Cost     0.16   \n",
      "Iteration 10000: Cost     0.16   \n",
      "Iteration 10200: Cost     0.16   \n",
      "Iteration 10400: Cost     0.16   \n",
      "Iteration 10600: Cost     0.16   \n",
      "Iteration 10800: Cost     0.16   \n",
      "Iteration 11000: Cost     0.16   \n",
      "Iteration 11200: Cost     0.16   \n",
      "Iteration 11400: Cost     0.16   \n",
      "Iteration 11600: Cost     0.16   \n",
      "Iteration 11800: Cost     0.16   \n",
      "Iteration 12000: Cost     0.16   \n",
      "Iteration 12200: Cost     0.16   \n",
      "Iteration 12400: Cost     0.16   \n",
      "Iteration 12600: Cost     0.16   \n",
      "Iteration 12800: Cost     0.16   \n",
      "Iteration 13000: Cost     0.16   \n",
      "Iteration 13200: Cost     0.16   \n",
      "Iteration 13400: Cost     0.16   \n",
      "Iteration 13600: Cost     0.16   \n",
      "Iteration 13800: Cost     0.16   \n",
      "Iteration 14000: Cost     0.16   \n",
      "Iteration 14200: Cost     0.16   \n",
      "Iteration 14400: Cost     0.16   \n",
      "Iteration 14600: Cost     0.16   \n",
      "Iteration 14800: Cost     0.16   \n",
      "Iteration 15000: Cost     0.16   \n",
      "Iteration 15200: Cost     0.16   \n",
      "Iteration 15400: Cost     0.16   \n",
      "Iteration 15600: Cost     0.16   \n",
      "Iteration 15800: Cost     0.16   \n",
      "Iteration 16000: Cost     0.16   \n",
      "Iteration 16200: Cost     0.16   \n",
      "Iteration 16400: Cost     0.16   \n",
      "Iteration 16600: Cost     0.16   \n",
      "Iteration 16800: Cost     0.16   \n",
      "Iteration 17000: Cost     0.16   \n",
      "Iteration 17200: Cost     0.16   \n",
      "Iteration 17400: Cost     0.16   \n",
      "Iteration 17600: Cost     0.16   \n",
      "Iteration 17800: Cost     0.16   \n",
      "Iteration 18000: Cost     0.16   \n",
      "Iteration 18200: Cost     0.16   \n",
      "Iteration 18400: Cost     0.16   \n",
      "Iteration 18600: Cost     0.16   \n",
      "Iteration 18800: Cost     0.16   \n",
      "Iteration 19000: Cost     0.16   \n",
      "Iteration 19200: Cost     0.16   \n",
      "Iteration 19400: Cost     0.16   \n",
      "Iteration 19600: Cost     0.16   \n",
      "Iteration 19800: Cost     0.16   \n",
      "Iteration 20000: Cost     0.16   \n",
      "Iteration 20200: Cost     0.16   \n",
      "Iteration 20400: Cost     0.16   \n",
      "Iteration 20600: Cost     0.16   \n",
      "Iteration 20800: Cost     0.16   \n",
      "Iteration 21000: Cost     0.16   \n",
      "Iteration 21200: Cost     0.16   \n",
      "Iteration 21400: Cost     0.16   \n",
      "Iteration 21600: Cost     0.16   \n",
      "Iteration 21800: Cost     0.16   \n",
      "Iteration 22000: Cost     0.16   \n",
      "Iteration 22200: Cost     0.16   \n",
      "Iteration 22400: Cost     0.16   \n",
      "Iteration 22600: Cost     0.16   \n",
      "Iteration 22800: Cost     0.16   \n",
      "Iteration 23000: Cost     0.16   \n",
      "Iteration 23200: Cost     0.16   \n",
      "Iteration 23400: Cost     0.16   \n",
      "Iteration 23600: Cost     0.16   \n",
      "Iteration 23800: Cost     0.16   \n",
      "Iteration 24000: Cost     0.16   \n",
      "Iteration 24200: Cost     0.16   \n",
      "Iteration 24400: Cost     0.16   \n",
      "Iteration 24600: Cost     0.16   \n",
      "Iteration 24800: Cost     0.16   \n",
      "Iteration 25000: Cost     0.16   \n",
      "Iteration 25200: Cost     0.16   \n",
      "Iteration 25400: Cost     0.16   \n",
      "Iteration 25600: Cost     0.16   \n",
      "Iteration 25800: Cost     0.16   \n",
      "Iteration 26000: Cost     0.16   \n",
      "Iteration 26200: Cost     0.16   \n",
      "Iteration 26400: Cost     0.16   \n",
      "Iteration 26600: Cost     0.16   \n",
      "Iteration 26800: Cost     0.16   \n",
      "Iteration 27000: Cost     0.16   \n",
      "Iteration 27200: Cost     0.16   \n",
      "Iteration 27400: Cost     0.16   \n",
      "Iteration 27600: Cost     0.16   \n",
      "Iteration 27800: Cost     0.16   \n",
      "Iteration 28000: Cost     0.16   \n",
      "Iteration 28200: Cost     0.16   \n",
      "Iteration 28400: Cost     0.16   \n",
      "Iteration 28600: Cost     0.16   \n",
      "Iteration 28800: Cost     0.16   \n",
      "Iteration 29000: Cost     0.16   \n",
      "Iteration 29200: Cost     0.16   \n",
      "Iteration 29400: Cost     0.16   \n",
      "Iteration 29600: Cost     0.16   \n",
      "w,b found by gradient descent: 0.8266399667306947 -5.554158891130038e-17\n"
     ]
    }
   ],
   "source": [
    "initial_w=0.\n",
    "initial_b=0.\n",
    "iterations =2000\n",
    "alpha = 0.01\n",
    "w,b,_,_ = gradient_descent(x_train ,y_train, initial_w, initial_b, \n",
    "                     compute_cost, compute_gradient, alpha, iterations)\n",
    "print(\"w,b found by gradient descent:\", w, b)"
   ]
  },
  {
   "cell_type": "code",
   "execution_count": 34,
   "id": "9455e05f-984a-4689-81f4-6ce749b5d820",
   "metadata": {},
   "outputs": [],
   "source": [
    "m=x_train.shape[0]\n",
    "predicted=np.zeros(m)\n",
    "for i in range(m):\n",
    "    predicted[i]=x_train[i]*w+b"
   ]
  },
  {
   "cell_type": "code",
   "execution_count": 35,
   "id": "4d353907-17cc-485f-a34f-48273d042ded",
   "metadata": {},
   "outputs": [
    {
     "data": {
      "image/png": "[encoded data removed]",
      "text/plain": [
       "<Figure size 640x480 with 1 Axes>"
      ]
     },
     "metadata": {},
     "output_type": "display_data"
    }
   ],
   "source": [
    "plt.plot(x_train,predicted,c='b')\n",
    "plt.scatter(x_train, y_train, marker='x', c='r')\n",
    "plt.title('house price')\n",
    "plt.xlabel('Area')\n",
    "plt.ylabel('Price')\n",
    "plt.show()"
   ]
  },
  {
   "cell_type": "code",
   "execution_count": 47,
   "id": "d09fefb8-faaa-4b81-bc07-0dc5de0192bd",
   "metadata": {},
   "outputs": [],
   "source": [
    "df2=pd.read_csv(\"test.csv\")"
   ]
  },
  {
   "cell_type": "code",
   "execution_count": 48,
   "id": "fb89f6df-f48c-4530-b31c-b8bed4b18f9c",
   "metadata": {},
   "outputs": [
    {
     "data": {
      "text/html": [
       "<div>\n",
       "<style scoped>\n",
       "    .dataframe tbody tr th:only-of-type {\n",
       "        vertical-align: middle;\n",
       "    }\n",
       "\n",
       "    .dataframe tbody tr th {\n",
       "        vertical-align: top;\n",
       "    }\n",
       "\n",
       "    .dataframe thead th {\n",
       "        text-align: right;\n",
       "    }\n",
       "</style>\n",
       "<table border=\"1\" class=\"dataframe\">\n",
       "  <thead>\n",
       "    <tr style=\"text-align: right;\">\n",
       "      <th></th>\n",
       "      <th>seller_type</th>\n",
       "      <th>bedroom</th>\n",
       "      <th>layout_type</th>\n",
       "      <th>property_type</th>\n",
       "      <th>locality</th>\n",
       "      <th>area</th>\n",
       "      <th>furnish_type</th>\n",
       "      <th>bathroom</th>\n",
       "    </tr>\n",
       "  </thead>\n",
       "  <tbody>\n",
       "    <tr>\n",
       "      <th>0</th>\n",
       "      <td>AGENT</td>\n",
       "      <td>3.0</td>\n",
       "      <td>BHK</td>\n",
       "      <td>Independent Floor</td>\n",
       "      <td>Safdarjung Enclave</td>\n",
       "      <td>1900</td>\n",
       "      <td>Semi-Furnished</td>\n",
       "      <td>3 bathrooms</td>\n",
       "    </tr>\n",
       "    <tr>\n",
       "      <th>1</th>\n",
       "      <td>AGENT</td>\n",
       "      <td>5.0</td>\n",
       "      <td>BHK</td>\n",
       "      <td>Independent Floor</td>\n",
       "      <td>Greater Kailash II</td>\n",
       "      <td>6521</td>\n",
       "      <td>Unfurnished</td>\n",
       "      <td>5 bathrooms</td>\n",
       "    </tr>\n",
       "    <tr>\n",
       "      <th>2</th>\n",
       "      <td>OWNER</td>\n",
       "      <td>1.0</td>\n",
       "      <td>BHK</td>\n",
       "      <td>Independent House</td>\n",
       "      <td>Jhil Mil Colony</td>\n",
       "      <td>450</td>\n",
       "      <td>Unfurnished</td>\n",
       "      <td>1 bathrooms</td>\n",
       "    </tr>\n",
       "    <tr>\n",
       "      <th>3</th>\n",
       "      <td>AGENT</td>\n",
       "      <td>1.0</td>\n",
       "      <td>BHK</td>\n",
       "      <td>Independent Floor</td>\n",
       "      <td>Greater Kailash</td>\n",
       "      <td>1000</td>\n",
       "      <td>Furnished</td>\n",
       "      <td>1 bathrooms</td>\n",
       "    </tr>\n",
       "    <tr>\n",
       "      <th>4</th>\n",
       "      <td>AGENT</td>\n",
       "      <td>3.0</td>\n",
       "      <td>BHK</td>\n",
       "      <td>Apartment</td>\n",
       "      <td>Sector 10 Dwarka</td>\n",
       "      <td>1600</td>\n",
       "      <td>Semi-Furnished</td>\n",
       "      <td>2 bathrooms</td>\n",
       "    </tr>\n",
       "  </tbody>\n",
       "</table>\n",
       "</div>"
      ],
      "text/plain": [
       "  seller_type  bedroom layout_type      property_type            locality  \\\n",
       "0       AGENT      3.0         BHK  Independent Floor  Safdarjung Enclave   \n",
       "1       AGENT      5.0         BHK  Independent Floor  Greater Kailash II   \n",
       "2       OWNER      1.0         BHK  Independent House     Jhil Mil Colony   \n",
       "3       AGENT      1.0         BHK  Independent Floor     Greater Kailash   \n",
       "4       AGENT      3.0         BHK          Apartment    Sector 10 Dwarka   \n",
       "\n",
       "   area    furnish_type     bathroom  \n",
       "0  1900  Semi-Furnished  3 bathrooms  \n",
       "1  6521     Unfurnished  5 bathrooms  \n",
       "2   450     Unfurnished  1 bathrooms  \n",
       "3  1000       Furnished  1 bathrooms  \n",
       "4  1600  Semi-Furnished  2 bathrooms  "
      ]
     },
     "execution_count": 48,
     "metadata": {},
     "output_type": "execute_result"
    }
   ],
   "source": [
    "df2.head()"
   ]
  },
  {
   "cell_type": "code",
   "execution_count": 49,
   "id": "66a367df-a030-4883-8928-e2e11fc6b9cb",
   "metadata": {},
   "outputs": [],
   "source": [
    "x_test=df2['area']"
   ]
  },
  {
   "cell_type": "code",
   "execution_count": 50,
   "id": "5d795632-80b4-4714-bf4a-2efdb66fec77",
   "metadata": {},
   "outputs": [],
   "source": [
    "def predict(x,w,b):\n",
    "   m=x.shape[0]\n",
    "   predicted=np.zeros(m)\n",
    "   for i in range(m):\n",
    "       predicted[i]=x[i]*w+b\n",
    "   return predicted"
   ]
  },
  {
   "cell_type": "code",
   "execution_count": 51,
   "id": "2f326aba-a70e-4646-b763-5db051ad452a",
   "metadata": {},
   "outputs": [],
   "source": [
    "y_pred=predict(x_test,w,b)"
   ]
  },
  {
   "cell_type": "code",
   "execution_count": 52,
   "id": "7cbfd797-da9f-4668-9a9c-3f47cc2d6b6d",
   "metadata": {},
   "outputs": [
    {
     "name": "stdout",
     "output_type": "stream",
     "text": [
      "[1570.61593679 5390.51922305  371.98798503 ... 1405.28794344 2687.40653184\n",
      "  595.18077605]\n"
     ]
    }
   ],
   "source": [
    "print(y_pred)"
   ]
  },
  {
   "cell_type": "code",
   "execution_count": 53,
   "id": "9429bdad-4d10-4ad2-9560-c016c97b1e96",
   "metadata": {},
   "outputs": [
    {
     "data": {
      "text/plain": [
       "3300"
      ]
     },
     "execution_count": 53,
     "metadata": {},
     "output_type": "execute_result"
    }
   ],
   "source": [
    "len(x_test)"
   ]
  },
  {
   "cell_type": "code",
   "execution_count": 54,
   "id": "6675d4db-717e-42f3-a469-c0b6c7a987ac",
   "metadata": {},
   "outputs": [
    {
     "data": {
      "text/plain": [
       "3300"
      ]
     },
     "execution_count": 54,
     "metadata": {},
     "output_type": "execute_result"
    }
   ],
   "source": [
    "len(y_pred)"
   ]
  },
  {
   "cell_type": "code",
   "execution_count": 55,
   "id": "310b5f8a-cb40-4ccc-95cd-1d43b483c552",
   "metadata": {},
   "outputs": [],
   "source": [
    "prediction_df = pd.DataFrame({'Actual': x_test, 'Predicted': y_pred})"
   ]
  },
  {
   "cell_type": "code",
   "execution_count": 56,
   "id": "eeb87f48-564a-4e29-ae72-fc481b4956f2",
   "metadata": {},
   "outputs": [],
   "source": [
    "prediction_df.to_csv('predict.csv', index=False)"
   ]
  },
  {
   "cell_type": "code",
   "execution_count": null,
   "id": "83bf2b05-9957-47cc-853f-dd8799944c4f",
   "metadata": {},
   "outputs": [],
   "source": []
  }
 ],
 "metadata": {
  "kernelspec": {
   "display_name": "Python 3 (ipykernel)",
   "language": "python",
   "name": "python3"
  },
  "language_info": {
   "codemirror_mode": {
    "name": "ipython",
    "version": 3
   },
   "file_extension": ".py",
   "mimetype": "text/x-python",
   "name": "python",
   "nbconvert_exporter": "python",
   "pygments_lexer": "ipython3",
   "version": "3.11.4"
  }
 },
 "nbformat": 4,
 "nbformat_minor": 5
}
